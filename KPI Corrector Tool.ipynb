{
 "cells": [
  {
   "cell_type": "markdown",
   "id": "a86e77ee",
   "metadata": {},
   "source": [
    "## Importing Required Libraries"
   ]
  },
  {
   "cell_type": "code",
   "execution_count": 1,
   "id": "edcea87b",
   "metadata": {},
   "outputs": [],
   "source": [
    "import pandas as pd\n",
    "import numpy as np\n",
    "import datetime\n",
    "import matplotlib.pyplot as plt\n",
    "import seaborn as sns"
   ]
  },
  {
   "cell_type": "markdown",
   "id": "8a047e79",
   "metadata": {},
   "source": [
    "## Reading and Processing the Files"
   ]
  },
  {
   "cell_type": "code",
   "execution_count": 2,
   "id": "1f3b9d12",
   "metadata": {},
   "outputs": [
    {
     "name": "stdout",
     "output_type": "stream",
     "text": [
      "Enter File Name:-Data\n"
     ]
    },
    {
     "name": "stderr",
     "output_type": "stream",
     "text": [
      "C:\\ProgramData\\Anaconda3\\lib\\site-packages\\openpyxl\\worksheet\\_reader.py:312: UserWarning: Data Validation extension is not supported and will be removed\n",
      "  warn(msg)\n"
     ]
    }
   ],
   "source": [
    "filename=input(\"Enter File Name:-\")\n",
    "df=pd.read_excel(filename+'.xlsx')"
   ]
  },
  {
   "cell_type": "code",
   "execution_count": 3,
   "id": "90a19b35",
   "metadata": {},
   "outputs": [],
   "source": [
    "df=df[['Request Number','Request Owner','Account','Local Category','Priority','Client Alias','# of Assets Impacted','Hours to First Response','Country Routing','Contact','Sub Type 3','Subject','Work Start Date','Target Date','Work End Date','Date/Time Closed','Submitted Date/Time','Private Notes','Client Initiated Date/Time','Solution Code','Solution']]\n",
    "df=df.set_axis(['req_num','req_owner','account','local_cat','priority','client_alias','assets_impacted','hours_to_response','country_routing','contact','sub_type_3','subject','start_date','target_date','end_date','dtclose','submitted_date','private_notes','client_initiated_date','solution_code','solution'],axis='columns')\n",
    "df=df[['req_num','req_owner','account','local_cat','priority','client_alias','assets_impacted','hours_to_response','country_routing','sub_type_3','subject','start_date','target_date','end_date','dtclose','submitted_date','private_notes','client_initiated_date','solution_code','solution']]"
   ]
  },
  {
   "cell_type": "markdown",
   "id": "ff5e5b80",
   "metadata": {},
   "source": [
    "Converting To Date Time Format"
   ]
  },
  {
   "cell_type": "code",
   "execution_count": 4,
   "id": "5d4f0023",
   "metadata": {},
   "outputs": [],
   "source": [
    "df[['start_date','target_date','end_date','submitted_date','client_initiated_date','dtclose']]=df[['start_date','target_date','end_date','submitted_date','client_initiated_date','dtclose']].apply(pd.to_datetime)"
   ]
  },
  {
   "cell_type": "code",
   "execution_count": 5,
   "id": "8629dc6e",
   "metadata": {},
   "outputs": [],
   "source": [
    "df['start_date']=df['start_date'].dt.normalize()\n",
    "df['target_date']=df['target_date'].dt.normalize()\n",
    "df['submitted_date']=df['submitted_date'].dt.normalize()\n",
    "df['end_date']=df['end_date'].dt.normalize()\n",
    "df['dtclose']=df['dtclose'].dt.normalize()"
   ]
  },
  {
   "cell_type": "markdown",
   "id": "5cf9ed63",
   "metadata": {},
   "source": [
    "Checking for Delay"
   ]
  },
  {
   "cell_type": "code",
   "execution_count": 6,
   "id": "611d788f",
   "metadata": {},
   "outputs": [],
   "source": [
    "x=np.busday_count(df.start_date.values.astype('datetime64[D]'), df.target_date.values.astype('datetime64[D]')+1)\n",
    "y=np.busday_count(df.submitted_date.values.astype('datetime64[D]'), df.end_date.values.astype('datetime64[D]'))\n",
    "z=np.busday_count(df.submitted_date.values.astype('datetime64[D]'), df.start_date.values.astype('datetime64[D]'))"
   ]
  },
  {
   "cell_type": "code",
   "execution_count": 7,
   "id": "1a05451f",
   "metadata": {},
   "outputs": [],
   "source": [
    "df['planning']=x\n",
    "df['delay']=y\n",
    "df['VC']=z"
   ]
  },
  {
   "cell_type": "code",
   "execution_count": 8,
   "id": "fd8070b8",
   "metadata": {},
   "outputs": [],
   "source": [
    "df['private_notes']=df['private_notes'].fillna(\"\")"
   ]
  },
  {
   "cell_type": "code",
   "execution_count": 9,
   "id": "d8d74e15",
   "metadata": {},
   "outputs": [],
   "source": [
    "client_alias_list=['Global','Local / Pack Size','COC']\n",
    "subject_line=['LEAN ONE-PIECE FLOW','BH','SETUP CATEGORY / COUNTRY','AO CLEANING','CHANGE REQUEST','DELETION','UPFRONT','HARIBO D+5']\n",
    "valid_words = ['GSA LATE FEEDBACK', 'COUNTRY LATE FEEDBACK', '2+ ITERATIONS( ALL FEEDBACK ON TIME )', '2+ ITERATIONS & GSA LATE FEEDBACK', '2+ ITERATIONS & COUNTRY LATE FEEDBACK', 'CODING DELAY / MISS', 'NISP ISSUE', 'VISUAL CHECK FAIL', 'VISUAL CHECK DELAY']"
   ]
  },
  {
   "cell_type": "markdown",
   "id": "4b8025c5",
   "metadata": {},
   "source": [
    "## Error Checking Function"
   ]
  },
  {
   "cell_type": "code",
   "execution_count": 10,
   "id": "119ccd16",
   "metadata": {},
   "outputs": [],
   "source": [
    "def validate_data(df):\n",
    "    error_dict = {'req_num': [], 'req_owner': [], 'error': []}\n",
    "\n",
    "    def add_error(req_num, req_owner, error_message):\n",
    "        error_dict['req_num'].append(req_num)\n",
    "        error_dict['req_owner'].append(req_owner)\n",
    "        error_dict['error'].append(error_message)\n",
    "\n",
    "    for ind in df.index:\n",
    "        account = df['account'][ind].lower()\n",
    "        client_alias = df['client_alias'][ind]\n",
    "        hours_to_response = df['hours_to_response'][ind]\n",
    "        private_notes = df['private_notes'][ind]\n",
    "        assets_impacted = df['assets_impacted'][ind]\n",
    "        local_cat = df['local_cat'][ind]\n",
    "        country_routing = df['country_routing'][ind]\n",
    "        start_date = df['start_date'][ind]\n",
    "        end_date = df['end_date'][ind]\n",
    "        subject = df.loc[ind, 'subject']\n",
    "        planning = df.loc[ind, 'planning']\n",
    "        delay = df.loc[ind, 'delay']\n",
    "        private_note = df.loc[ind, 'private_notes']\n",
    "        subs = subject.split(' / ')[1:]\n",
    "\n",
    "        if private_notes.strip():\n",
    "            words = private_notes.split(' / ')\n",
    "            for word in words:\n",
    "                if word not in valid_words:\n",
    "                    add_error(df['req_num'][ind], df['req_owner'][ind], 'Private note is incorrect')\n",
    "\n",
    "        if pd.isna(df['client_initiated_date'][ind]):\n",
    "            add_error(df['req_num'][ind], df['req_owner'][ind], 'Client Initiated Date is Blank')\n",
    "\n",
    "        if 'nielsen' in account or 'tcs' in account or account == \"l'oreal\":\n",
    "            add_error(df['req_num'][ind], df['req_owner'][ind], 'Account Name is Incorrect')\n",
    "\n",
    "        if np.isnan(assets_impacted) or assets_impacted == 0:\n",
    "            add_error(df['req_num'][ind], df['req_owner'][ind], 'Assets Impacted is either Blank or Zero')\n",
    "\n",
    "        if pd.isna(client_alias) or client_alias not in client_alias_list:\n",
    "            add_error(df['req_num'][ind], df['req_owner'][ind], 'Client Alias is either Blank or Incorrect')\n",
    "\n",
    "        if pd.isna(local_cat):\n",
    "            add_error(df['req_num'][ind], df['req_owner'][ind], 'Local Category is Blank')\n",
    "\n",
    "        if pd.isna(country_routing):\n",
    "            add_error(df['req_num'][ind], df['req_owner'][ind], 'Country Routing is Blank')\n",
    "\n",
    "        if client_alias == 'Local / Pack Size' and not pd.isnull(hours_to_response):\n",
    "            add_error(df['req_num'][ind], df['req_owner'][ind], 'For Local / Pack Size Business Hours to Response should be blank')\n",
    "\n",
    "        if end_date < start_date:\n",
    "            add_error(df['req_num'][ind], df['req_owner'][ind], 'End Date is past date than start date')\n",
    "        \n",
    "        \n",
    "        if end_date != start_date and pd.isna(private_note):\n",
    "            if delay >= 6 or planning >= 6:\n",
    "                if len(subs) == 0:\n",
    "                    add_error(df.loc[ind, 'req_num'], df.loc[ind, 'req_owner'], 'TAT is exceeding D+5, please update Private Note or Subject Line')\n",
    "                else:\n",
    "                    for sub in subs:\n",
    "                        if sub not in subject_line:\n",
    "                            add_error(df.loc[ind, 'req_num'], df.loc[ind, 'req_owner'], 'TAT is exceeding D+5, please update Private Note or Subject Line')\n",
    "\n",
    "        \n",
    "\n",
    "    return error_dict\n",
    "\n",
    "error_dict = validate_data(df)\n"
   ]
  },
  {
   "cell_type": "code",
   "execution_count": 11,
   "id": "402f2584",
   "metadata": {},
   "outputs": [],
   "source": [
    "output_df=pd.DataFrame.from_dict(error_dict)\n",
    "output_df=output_df.sort_values('req_owner')"
   ]
  },
  {
   "cell_type": "markdown",
   "id": "58bcb5d0",
   "metadata": {},
   "source": [
    "## Output"
   ]
  },
  {
   "cell_type": "code",
   "execution_count": 12,
   "id": "b7296dbe",
   "metadata": {},
   "outputs": [
    {
     "data": {
      "text/html": [
       "<div>\n",
       "<style scoped>\n",
       "    .dataframe tbody tr th:only-of-type {\n",
       "        vertical-align: middle;\n",
       "    }\n",
       "\n",
       "    .dataframe tbody tr th {\n",
       "        vertical-align: top;\n",
       "    }\n",
       "\n",
       "    .dataframe thead th {\n",
       "        text-align: right;\n",
       "    }\n",
       "</style>\n",
       "<table border=\"1\" class=\"dataframe\">\n",
       "  <thead>\n",
       "    <tr style=\"text-align: right;\">\n",
       "      <th></th>\n",
       "      <th>req_num</th>\n",
       "      <th>req_owner</th>\n",
       "      <th>error</th>\n",
       "    </tr>\n",
       "  </thead>\n",
       "  <tbody>\n",
       "    <tr>\n",
       "      <th>5</th>\n",
       "      <td>REQ-04979469</td>\n",
       "      <td>Aditi Dighe</td>\n",
       "      <td>Client Alias is either Blank or Incorrect</td>\n",
       "    </tr>\n",
       "    <tr>\n",
       "      <th>7</th>\n",
       "      <td>REQ-04920305</td>\n",
       "      <td>Aditi Dighe</td>\n",
       "      <td>Client Alias is either Blank or Incorrect</td>\n",
       "    </tr>\n",
       "    <tr>\n",
       "      <th>1</th>\n",
       "      <td>REQ-04948387</td>\n",
       "      <td>Ashish Dubey</td>\n",
       "      <td>Assets Impacted is either Blank or Zero</td>\n",
       "    </tr>\n",
       "    <tr>\n",
       "      <th>2</th>\n",
       "      <td>REQ-04948387</td>\n",
       "      <td>Ashish Dubey</td>\n",
       "      <td>Client Alias is either Blank or Incorrect</td>\n",
       "    </tr>\n",
       "    <tr>\n",
       "      <th>3</th>\n",
       "      <td>REQ-04948387</td>\n",
       "      <td>Ashish Dubey</td>\n",
       "      <td>Local Category is Blank</td>\n",
       "    </tr>\n",
       "    <tr>\n",
       "      <th>6</th>\n",
       "      <td>REQ-04931389</td>\n",
       "      <td>Nidhi Gamit</td>\n",
       "      <td>Local Category is Blank</td>\n",
       "    </tr>\n",
       "    <tr>\n",
       "      <th>0</th>\n",
       "      <td>REQ-04929229</td>\n",
       "      <td>Priya Jain</td>\n",
       "      <td>Client Initiated Date is Blank</td>\n",
       "    </tr>\n",
       "    <tr>\n",
       "      <th>4</th>\n",
       "      <td>REQ-04958558</td>\n",
       "      <td>Ritika Nagar</td>\n",
       "      <td>Client Alias is either Blank or Incorrect</td>\n",
       "    </tr>\n",
       "    <tr>\n",
       "      <th>8</th>\n",
       "      <td>REQ-04926212</td>\n",
       "      <td>Shubham Saini</td>\n",
       "      <td>For Local / Pack Size Business Hours to Respon...</td>\n",
       "    </tr>\n",
       "  </tbody>\n",
       "</table>\n",
       "</div>"
      ],
      "text/plain": [
       "        req_num      req_owner  \\\n",
       "5  REQ-04979469    Aditi Dighe   \n",
       "7  REQ-04920305    Aditi Dighe   \n",
       "1  REQ-04948387   Ashish Dubey   \n",
       "2  REQ-04948387   Ashish Dubey   \n",
       "3  REQ-04948387   Ashish Dubey   \n",
       "6  REQ-04931389    Nidhi Gamit   \n",
       "0  REQ-04929229     Priya Jain   \n",
       "4  REQ-04958558   Ritika Nagar   \n",
       "8  REQ-04926212  Shubham Saini   \n",
       "\n",
       "                                               error  \n",
       "5          Client Alias is either Blank or Incorrect  \n",
       "7          Client Alias is either Blank or Incorrect  \n",
       "1            Assets Impacted is either Blank or Zero  \n",
       "2          Client Alias is either Blank or Incorrect  \n",
       "3                            Local Category is Blank  \n",
       "6                            Local Category is Blank  \n",
       "0                     Client Initiated Date is Blank  \n",
       "4          Client Alias is either Blank or Incorrect  \n",
       "8  For Local / Pack Size Business Hours to Respon...  "
      ]
     },
     "execution_count": 12,
     "metadata": {},
     "output_type": "execute_result"
    }
   ],
   "source": [
    "output_df"
   ]
  },
  {
   "cell_type": "code",
   "execution_count": 13,
   "id": "5653a9c8",
   "metadata": {},
   "outputs": [],
   "source": [
    "output_df.to_excel('output.xlsx', index=False)"
   ]
  },
  {
   "cell_type": "code",
   "execution_count": null,
   "id": "5ecb71e6",
   "metadata": {},
   "outputs": [],
   "source": []
  }
 ],
 "metadata": {
  "kernelspec": {
   "display_name": "Python 3 (ipykernel)",
   "language": "python",
   "name": "python3"
  },
  "language_info": {
   "codemirror_mode": {
    "name": "ipython",
    "version": 3
   },
   "file_extension": ".py",
   "mimetype": "text/x-python",
   "name": "python",
   "nbconvert_exporter": "python",
   "pygments_lexer": "ipython3",
   "version": "3.9.12"
  }
 },
 "nbformat": 4,
 "nbformat_minor": 5
}
